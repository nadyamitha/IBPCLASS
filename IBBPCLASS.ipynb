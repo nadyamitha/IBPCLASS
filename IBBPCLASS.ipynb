{
  "nbformat": 4,
  "nbformat_minor": 0,
  "metadata": {
    "colab": {
      "provenance": []
    },
    "kernelspec": {
      "name": "python3",
      "display_name": "Python 3"
    },
    "language_info": {
      "name": "python"
    }
  },
  "cells": [
    {
      "cell_type": "code",
      "execution_count": null,
      "metadata": {
        "colab": {
          "base_uri": "https://localhost:8080/"
        },
        "id": "KtYmqfejqdbz",
        "outputId": "68500850-a4ea-4b56-9866-50f3bffa2a9b"
      },
      "outputs": [
        {
          "output_type": "stream",
          "name": "stdout",
          "text": [
            "we are leaving python\n"
          ]
        }
      ],
      "source": [
        "print(\"we are leaving python\")"
      ]
    },
    {
      "cell_type": "code",
      "source": [
        "# variable\n",
        "x=9\n",
        "print(x)"
      ],
      "metadata": {
        "colab": {
          "base_uri": "https://localhost:8080/"
        },
        "id": "60t_ti8mrnsz",
        "outputId": "c28dd9e9-c48f-4975-8430-c5153b1093ca"
      },
      "execution_count": null,
      "outputs": [
        {
          "output_type": "stream",
          "name": "stdout",
          "text": [
            "9\n"
          ]
        }
      ]
    },
    {
      "cell_type": "code",
      "source": [
        "x=x*3\n",
        "print(x)"
      ],
      "metadata": {
        "colab": {
          "base_uri": "https://localhost:8080/"
        },
        "id": "EVlZN8dysR-M",
        "outputId": "8fa913b6-b10f-4d4a-bf94-85aa71a35986"
      },
      "execution_count": null,
      "outputs": [
        {
          "output_type": "stream",
          "name": "stdout",
          "text": [
            "27\n"
          ]
        }
      ]
    },
    {
      "cell_type": "code",
      "source": [],
      "metadata": {
        "id": "R4M_byIsyUK4"
      },
      "execution_count": null,
      "outputs": []
    },
    {
      "cell_type": "code",
      "source": [
        "\n",
        "Dict = {\"Gender\": \"Male\", \"CNIC\": \"1234\", \"Age\": \"46\", \"City\": \"Karachi\"}\n",
        "Dict_1= {\"Country\": \"Pakistan\", \"ID\": \"5434\"}\n",
        "Dict_2= {\"Name\":\"Asad\"}\n",
        "print (Dict)\n",
        "print (Dict_1)\n",
        "print (Dict_2)\n"
      ],
      "metadata": {
        "colab": {
          "base_uri": "https://localhost:8080/"
        },
        "id": "4_4De83JtJ90",
        "outputId": "0bf6fb5d-4d74-4daa-b2f7-21addadfe4fe"
      },
      "execution_count": null,
      "outputs": [
        {
          "output_type": "stream",
          "name": "stdout",
          "text": [
            "{'Gender': 'Male', 'CNIC': '1234', 'Age': '46', 'City': 'Karachi'}\n",
            "{'Country': 'Pakistan', 'ID': '5434'}\n",
            "{'Name': 'Asad'}\n"
          ]
        }
      ]
    },
    {
      "cell_type": "code",
      "source": [
        "print(5+1)"
      ],
      "metadata": {
        "colab": {
          "base_uri": "https://localhost:8080/"
        },
        "id": "Z73gLLEXtBRE",
        "outputId": "34b9a5e0-a1ea-4ed7-a516-b4fc2dc43a8c"
      },
      "execution_count": null,
      "outputs": [
        {
          "output_type": "stream",
          "name": "stdout",
          "text": [
            "6\n"
          ]
        }
      ]
    },
    {
      "cell_type": "code",
      "source": [
        "print (round(5/3))"
      ],
      "metadata": {
        "colab": {
          "base_uri": "https://localhost:8080/"
        },
        "id": "xfbqc8Rbzam6",
        "outputId": "e08c145b-476c-4871-e369-46c20399676a"
      },
      "execution_count": null,
      "outputs": [
        {
          "output_type": "stream",
          "name": "stdout",
          "text": [
            "2\n"
          ]
        }
      ]
    },
    {
      "cell_type": "code",
      "source": [
        "print (5//3)"
      ],
      "metadata": {
        "colab": {
          "base_uri": "https://localhost:8080/"
        },
        "id": "U4KHdsI-zdcO",
        "outputId": "1f2ac4c8-2ca6-4d86-b728-41a83c884907"
      },
      "execution_count": null,
      "outputs": [
        {
          "output_type": "stream",
          "name": "stdout",
          "text": [
            "1\n"
          ]
        }
      ]
    },
    {
      "cell_type": "code",
      "source": [
        "x= \"hello world\"\n",
        "print(\"hello\" in x)"
      ],
      "metadata": {
        "colab": {
          "base_uri": "https://localhost:8080/"
        },
        "id": "kADO922Hzy1m",
        "outputId": "3cff69c5-2432-41bd-b87c-2271c8dadecc"
      },
      "execution_count": null,
      "outputs": [
        {
          "output_type": "stream",
          "name": "stdout",
          "text": [
            "True\n"
          ]
        }
      ]
    },
    {
      "cell_type": "code",
      "source": [
        "bin(5)\n"
      ],
      "metadata": {
        "colab": {
          "base_uri": "https://localhost:8080/",
          "height": 35
        },
        "id": "0mz0SKaZ3CCa",
        "outputId": "f9e470a3-5941-4e3f-fdfc-6459e9942e09"
      },
      "execution_count": null,
      "outputs": [
        {
          "output_type": "execute_result",
          "data": {
            "text/plain": [
              "'0b101'"
            ],
            "application/vnd.google.colaboratory.intrinsic+json": {
              "type": "string"
            }
          },
          "metadata": {},
          "execution_count": 22
        }
      ]
    },
    {
      "cell_type": "code",
      "source": [
        "int(0b101)"
      ],
      "metadata": {
        "colab": {
          "base_uri": "https://localhost:8080/"
        },
        "id": "LlEXl8uO3XNo",
        "outputId": "fab6667d-e856-4d4a-ebc5-d7b90ae2ca8c"
      },
      "execution_count": null,
      "outputs": [
        {
          "output_type": "execute_result",
          "data": {
            "text/plain": [
              "5"
            ]
          },
          "metadata": {},
          "execution_count": 23
        }
      ]
    },
    {
      "cell_type": "code",
      "source": [
        "print(5&3)"
      ],
      "metadata": {
        "colab": {
          "base_uri": "https://localhost:8080/"
        },
        "id": "wstM5aG33uEH",
        "outputId": "0a4a6a63-acae-4c73-df52-d26ec16348d4"
      },
      "execution_count": null,
      "outputs": [
        {
          "output_type": "stream",
          "name": "stdout",
          "text": [
            "1\n"
          ]
        }
      ]
    },
    {
      "cell_type": "code",
      "source": [
        "int(input(\"Insert value:\"))\n"
      ],
      "metadata": {
        "colab": {
          "base_uri": "https://localhost:8080/"
        },
        "id": "LiFreTmx36oW",
        "outputId": "1d20ff2c-4f48-428d-cabc-8d8a5a77b07d"
      },
      "execution_count": null,
      "outputs": [
        {
          "name": "stdout",
          "output_type": "stream",
          "text": [
            "Insert value:1\n"
          ]
        },
        {
          "output_type": "execute_result",
          "data": {
            "text/plain": [
              "1"
            ]
          },
          "metadata": {},
          "execution_count": 25
        }
      ]
    },
    {
      "cell_type": "code",
      "source": [
        "age= int(input(\"Insert your Age:\"))\n",
        "if age < 25: print (\"You cannot Join\")\n",
        "else:\n",
        "  print (\"Thank you for Accessing Data\")"
      ],
      "metadata": {
        "colab": {
          "base_uri": "https://localhost:8080/"
        },
        "id": "AuomZ5GoA8zI",
        "outputId": "219a21b9-9908-46a9-d61b-0930d05f97df"
      },
      "execution_count": null,
      "outputs": [
        {
          "output_type": "stream",
          "name": "stdout",
          "text": [
            "Insert your Age:35\n",
            "Thank you for Accessing Data\n"
          ]
        }
      ]
    },
    {
      "cell_type": "code",
      "source": [
        "stock_price= float(input(\"Insert your Value:\"))\n",
        "if stock_price > 25:\n",
        "  print (stock_price+20)\n",
        "else:\n",
        "  print (stock_price-20)"
      ],
      "metadata": {
        "colab": {
          "base_uri": "https://localhost:8080/"
        },
        "id": "abSc_N7vBdIx",
        "outputId": "763c73d0-09c3-4e41-cabb-ef3097c4285a"
      },
      "execution_count": null,
      "outputs": [
        {
          "output_type": "stream",
          "name": "stdout",
          "text": [
            "Insert your Value:35\n",
            "55.0\n"
          ]
        }
      ]
    },
    {
      "cell_type": "code",
      "source": [
        "Age_1= float(input(\"Insert your Age:\"))\n",
        "if Age_1 < 100:\n",
        "  print (Age_1-10)\n",
        "else:\n",
        "  print (Age_1)"
      ],
      "metadata": {
        "colab": {
          "base_uri": "https://localhost:8080/"
        },
        "id": "3FRfJKcbCGmc",
        "outputId": "d5bd94de-00e7-41df-e2da-a04d1916ac79"
      },
      "execution_count": null,
      "outputs": [
        {
          "output_type": "stream",
          "name": "stdout",
          "text": [
            "Insert your Age:45\n",
            "35.0\n"
          ]
        }
      ]
    },
    {
      "cell_type": "code",
      "source": [
        "Cost= float(input(\"Insert your Cost to calculate your profit :\"))\n",
        "if Cost >100:\n",
        "  print (\"Your profit is \", Cost * 0.2)\n",
        "else:\n",
        "  print (\"You have not earned any Profit\")"
      ],
      "metadata": {
        "colab": {
          "base_uri": "https://localhost:8080/"
        },
        "id": "jMv9EClrCquc",
        "outputId": "25601be2-1644-44e9-d833-90597f2086a1"
      },
      "execution_count": null,
      "outputs": [
        {
          "output_type": "stream",
          "name": "stdout",
          "text": [
            "Insert your Cost to calculate your profit :150\n",
            "Your profit is  30.0\n"
          ]
        }
      ]
    },
    {
      "cell_type": "code",
      "source": [
        "for i in range (1,10):\n",
        "  print(i, \"add five\", i*5)"
      ],
      "metadata": {
        "colab": {
          "base_uri": "https://localhost:8080/"
        },
        "id": "6gJWtJQcDuRj",
        "outputId": "e9c56fe4-2f06-4071-a358-f5de52fb3622"
      },
      "execution_count": null,
      "outputs": [
        {
          "output_type": "stream",
          "name": "stdout",
          "text": [
            "1 add five 5\n",
            "2 add five 10\n",
            "3 add five 15\n",
            "4 add five 20\n",
            "5 add five 25\n",
            "6 add five 30\n",
            "7 add five 35\n",
            "8 add five 40\n",
            "9 add five 45\n"
          ]
        }
      ]
    },
    {
      "cell_type": "code",
      "source": [
        "i= 0\n",
        "while i <=5:\n",
        "  if i== 4:\n",
        "    break\n",
        "  print(i+1)\n",
        "  i+=1\n"
      ],
      "metadata": {
        "colab": {
          "base_uri": "https://localhost:8080/"
        },
        "id": "0AbLl8T0GT0L",
        "outputId": "067dc9c5-3a83-47af-ccaa-c0c9318b4261"
      },
      "execution_count": null,
      "outputs": [
        {
          "output_type": "stream",
          "name": "stdout",
          "text": [
            "1\n",
            "2\n",
            "3\n",
            "4\n"
          ]
        }
      ]
    },
    {
      "cell_type": "code",
      "source": [
        "def int_inc(x,r,y,m):\n",
        "  if x == r*0.7:\n",
        "    return y*1.01\n",
        "  elif m == y*1.04:\n",
        "    return r*1.01"
      ],
      "metadata": {
        "id": "IfJXA_RcH4HD"
      },
      "execution_count": null,
      "outputs": []
    },
    {
      "cell_type": "code",
      "source": [
        "def tax_calc(tx,tr,x):\n",
        "  if tx == tr*x:\n",
        "    print (\"You are an honest tax payer\")\n",
        "  else:\n",
        "    print(\"You have to pay tax immediately\")"
      ],
      "metadata": {
        "id": "U7RxpjlfKykX"
      },
      "execution_count": null,
      "outputs": []
    },
    {
      "cell_type": "code",
      "source": [
        "tax_calc(12,0.1,120)"
      ],
      "metadata": {
        "colab": {
          "base_uri": "https://localhost:8080/"
        },
        "id": "jqBGVgjvMF5u",
        "outputId": "098ad3ce-d76d-4527-adce-9b3851449ed4"
      },
      "execution_count": null,
      "outputs": [
        {
          "output_type": "stream",
          "name": "stdout",
          "text": [
            "You are an honest tax payer\n"
          ]
        }
      ]
    },
    {
      "cell_type": "code",
      "source": [
        "def g_t(x):\n",
        "  if x == 'Male':\n",
        "    return 0\n",
        "  elif x == 'Transgender':\n",
        "    return 2\n",
        "  elif x =='Female':\n",
        "      return 1\n",
        "  else:\n",
        "      print (\"You are an alien\")"
      ],
      "metadata": {
        "id": "nLYfmoXMMQRv"
      },
      "execution_count": null,
      "outputs": []
    },
    {
      "cell_type": "code",
      "source": [
        "g_t ('Male')\n"
      ],
      "metadata": {
        "colab": {
          "base_uri": "https://localhost:8080/"
        },
        "id": "FK02VKbaNDN8",
        "outputId": "aee89f1a-ce68-41b2-8fa9-9bf23ab90676"
      },
      "execution_count": null,
      "outputs": [
        {
          "output_type": "execute_result",
          "data": {
            "text/plain": [
              "0"
            ]
          },
          "metadata": {},
          "execution_count": 66
        }
      ]
    },
    {
      "cell_type": "code",
      "source": [
        "g_t ('Female')"
      ],
      "metadata": {
        "colab": {
          "base_uri": "https://localhost:8080/"
        },
        "id": "94zmrASkNYsr",
        "outputId": "4dc0c204-a445-4724-b3f9-1f2d4cd60353"
      },
      "execution_count": null,
      "outputs": [
        {
          "output_type": "execute_result",
          "data": {
            "text/plain": [
              "1"
            ]
          },
          "metadata": {},
          "execution_count": 67
        }
      ]
    },
    {
      "cell_type": "code",
      "source": [
        "g_t ('xyz')"
      ],
      "metadata": {
        "colab": {
          "base_uri": "https://localhost:8080/"
        },
        "id": "lbWlRdnKNc05",
        "outputId": "c002b963-f8a8-43ba-ec25-d4713cb0cb5d"
      },
      "execution_count": null,
      "outputs": [
        {
          "output_type": "stream",
          "name": "stdout",
          "text": [
            "You are an alien\n"
          ]
        }
      ]
    },
    {
      "cell_type": "code",
      "source": [],
      "metadata": {
        "id": "nG_HzyTENgQp"
      },
      "execution_count": null,
      "outputs": []
    }
  ]
}